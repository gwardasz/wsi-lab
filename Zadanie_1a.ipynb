{
  "cells": [
    {
      "cell_type": "markdown",
      "metadata": {
        "id": "88lxDms-saqt"
      },
      "source": [
        "#Zadanie 1a (3 pkt)\n",
        "Celem zadania jest rozwiązanie problemu plecakowego dwoma metodami - brute force oraz według zadanej heurystyki. Należy zaimplementować metody klasy *KnapSack* - *solve_knapsack_brute_force* oraz *solve_knapsack_pw_ratio*. Poprzez rozwiązanie problemu rozumiemy podanie które przedmioty (indeksy w tablicy) należy spakować do plecaka oraz jaka jest sumaryczna wartość i masa plecaka. Punktacja wygląda następująco:\n",
        "\n",
        "\n",
        "*   Rozwiązanie problemu metodą brute force. *Podpowiedź: do wygenerowania wszystkich permutacji można użyć funkcji product z biblioteki itertools* - **1.5 pkt**\n",
        "*   Rozwiązanie problemu według heurystyki - do plecaka pakujemy przedmioty według stosunku wartości do wagi - **1 pkt**\n",
        "*   Dla metody brute force proszę wygenerować wykres zależności czasu wykonywania metody od liczby elementów w tablicach *weights* i *profits* (do obu tablic należy stopniowo dopisywać po jednym elemencie, np. 10-krotnie, wartości elementów nie mają znaczenia). Proszę również odpowiedzieć na pytania (w osobnej komórce tekstowej) - czy obie metody mają takie same rozwiązania? Jakie są Pani / Pana wnioski? - **0.5 pkt**\n",
        "\n",
        "\n"
      ]
    },
    {
      "cell_type": "code",
      "execution_count": null,
      "metadata": {
        "id": "1X0PiYKZ2w63"
      },
      "outputs": [],
      "source": [
        "import numpy as np\n",
        "import itertools\n",
        "import time\n",
        "import random\n",
        "import matplotlib.pyplot as plt\n",
        "\n",
        "# !nvidia-smi"
      ]
    },
    {
      "cell_type": "code",
      "execution_count": null,
      "metadata": {
        "id": "_IOCNGpCuy8s"
      },
      "outputs": [],
      "source": [
        "weights = np.array([8, 3, 5, 2])\n",
        "capacity = 9\n",
        "profits = np.array([16, 8, 9, 6])"
      ]
    },
    {
      "cell_type": "code",
      "execution_count": null,
      "metadata": {
        "colab": {
          "base_uri": "https://localhost:8080/"
        },
        "id": "s5J82x9WuSOh",
        "outputId": "6721a9a5-859c-4eef-c75e-01adbf235fb0"
      },
      "outputs": [
        {
          "output_type": "stream",
          "name": "stdout",
          "text": [
            "Brute force method:\n",
            "Idexes of chosen item: (1, 2) Total profit 17 , total weight: 8\n",
            "Pw ratio method:\n",
            "Idexes of chosen item: [1, 3] Total profit 14 , total weight: 5\n"
          ]
        }
      ],
      "source": [
        "class KnapSack:\n",
        "  def __init__(self, profits, weights, capacity):\n",
        "    self.profits = profits\n",
        "    self.weights = weights\n",
        "    self.capacity = capacity\n",
        "    self.indexes = list(range(len(weights)))\n",
        "\n",
        "  def solve_knapsack_brute_force(self):\n",
        "    maxPftbatch = []\n",
        "    maxProfit = 0\n",
        "    maxProfweight = 0\n",
        "\n",
        "    for index in self.indexes:\n",
        "      for batch in itertools.permutations(self.indexes, index + 1):\n",
        "        weight = 0\n",
        "        profit = 0\n",
        "\n",
        "        for i in batch:\n",
        "          weight += self.weights[i]\n",
        "          profit += self.profits[i]\n",
        "\n",
        "        if weight <= self.capacity and profit > maxProfit:\n",
        "          maxProfit = profit\n",
        "          mxPftbatch = batch\n",
        "          maxProfweight = weight\n",
        "\n",
        "    return  mxPftbatch, maxProfit, maxProfweight\n",
        "\n",
        "\n",
        "  def solve_knapsack_pw_ratio(self):\n",
        "    maxPftbatchR = []\n",
        "    maxProfitR = 0\n",
        "    maxProfweightR = 0\n",
        "    ratio_list = []\n",
        "\n",
        "    for w, p in zip(self.weights, self.profits):\n",
        "      ratio = p/w\n",
        "      ratio_list.append(ratio) # list comprehension zrobić\n",
        "\n",
        "    sortedbyratio = sorted(zip(ratio_list, self.indexes, self.weights, self.profits), reverse= True)\n",
        "    temp_weight = 0\n",
        "    r,i,w,p = sortedbyratio.pop(0)\n",
        "    temp_weight = w\n",
        "\n",
        "    while temp_weight <= self.capacity:\n",
        "      maxPftbatchR.append(i)\n",
        "      maxProfitR += p\n",
        "      maxProfweightR = temp_weight\n",
        "\n",
        "      r,i,w,p = sortedbyratio.pop(0)\n",
        "      temp_weight += w\n",
        "\n",
        "    return  sorted(maxPftbatchR), maxProfitR, maxProfweightR\n",
        "\n",
        "\n",
        "\n",
        "k1 = KnapSack(profits, weights, capacity)\n",
        "print(\"Brute force method:\")\n",
        "i, p, w = k1.solve_knapsack_brute_force()\n",
        "print(\"Idexes of chosen item:\", i, \"Total profit\", p, \", total weight:\", w)\n",
        "\n",
        "print(\"Pw ratio method:\")\n",
        "i, p, w = k1.solve_knapsack_pw_ratio()\n",
        "print(\"Idexes of chosen item:\", i, \"Total profit\", p, \", total weight:\", w)"
      ]
    },
    {
      "cell_type": "code",
      "source": [
        "weights_n = np.array([])\n",
        "profits_n = np.array([])\n",
        "durations = np.array([])\n",
        "items = 10\n",
        "\n",
        "for _ in range(1, items + 1):\n",
        "  rand_weight = random.randint(1, 9)\n",
        "  rand_profit = random.randint(1,30)\n",
        "  weights_n = np.append(weights_n, rand_weight)\n",
        "  profits_n = np.append(profits_n, rand_profit)\n",
        "  k1 = KnapSack(profits_n, weights_n, capacity)\n",
        "  # print(\"Brute force method for %s items:\" % a)\n",
        "  start_time = time.time()\n",
        "  k1.solve_knapsack_brute_force()\n",
        "  # k1.solve_knapsack_pw_ratio\n",
        "  exec_duration = time.time() - start_time\n",
        "  # print(\"Brute force method: %s seconds \\n\" % exec_duration )\n",
        "  durations = np.append(durations, exec_duration)\n",
        "\n",
        "plt.xlabel(\"Number of items\")\n",
        "plt.ylabel(\"Execution time\")\n",
        "\n",
        "plt.yscale('log',base=2)\n",
        "plt.scatter(range(1,items + 1), durations, marker='o', c='#955251')\n",
        "\n",
        "# plt.yscale('linear')\n",
        "# plt.scatter(range(1,items + 1), durations, marker='o', c='#955251')\n"
      ],
      "metadata": {
        "colab": {
          "base_uri": "https://localhost:8080/",
          "height": 467
        },
        "id": "ENFOZrkSSo9Z",
        "outputId": "06a5497d-05e5-41a0-ba15-d85dfc4ca38a"
      },
      "execution_count": null,
      "outputs": [
        {
          "output_type": "execute_result",
          "data": {
            "text/plain": [
              "<matplotlib.collections.PathCollection at 0x790ff981c9a0>"
            ]
          },
          "metadata": {},
          "execution_count": 4
        },
        {
          "output_type": "display_data",
          "data": {
            "text/plain": [
              "<Figure size 640x480 with 1 Axes>"
            ],
            "image/png": "[encoded data removed]"
          },
          "metadata": {}
        }
      ]
    },
    {
      "cell_type": "markdown",
      "source": [
        "# Wnioski\n",
        "Oczywiście może się zdarzyć, że obie metody będą miały takie same rozwiązania, ale to tylko w wypadku, gdy najlepsze dopasowanie rzeczy będzie składało się z przedmiotów, które mają największe współczynniki zysk/waga. Zazwyczaj jednak metoda wykorzystująca współczynnik będzie dawała trochę gorsze rozwiązania.\n",
        "\n",
        "Zaletą metody brute force jest to, że znajdujemy najlesze rozwiązanie, jednak jak widać na wykresie, czas poszukiwań rośnie eksponencjalnie. Dla 10 przedmiotów wynosi już około 35 sekund, więc stosowanie tej metody jest korzystne tylko, gdy nie mamy do czynienia z dużą liczbą przedmiotów i potrzebujemy ten najlepszy wynik.\n",
        "\n",
        "Drugą metodę można wykorzystać dla dużej ilości przedmiotów, ponieważ czas poszukiwań rośnie bardzo powoli w porównaniu do poprzedniej metody. Nawet dla kilku tysięcy przedmiotów nie przekraczas on sekundy. Ta metoda nie zapewnia nam zazwyczaj najlepszego wyniku, ale dobry, dzięki któremu jesteśmy w stanie w rozsądnym czasie mniej więcej określić na jaki zysk możemy liczyć/ skalę tego zysku."
      ],
      "metadata": {
        "id": "9Qgnn4qRXUlG"
      }
    }
  ],
  "metadata": {
    "accelerator": "GPU",
    "colab": {
      "provenance": []
    },
    "kernelspec": {
      "display_name": "Python 3",
      "name": "python3"
    },
    "language_info": {
      "name": "python"
    },
    "nteract": {
      "version": "nteract-front-end@1.0.0"
    }
  },
  "nbformat": 4,
  "nbformat_minor": 0
}