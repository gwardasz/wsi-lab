{
  "cells": [
    {
      "cell_type": "markdown",
      "source": [
        "#Zadanie 1a (3 pkt)\n",
        "Celem zadania jest rozwiązanie problemu plecakowego dwoma metodami - brute force oraz według zadanej heurystyki. Należy zaimplementować metody klasy *KnapSack* - *solve_knapsack_brute_force* oraz *solve_knapsack_pw_ratio*. Poprzez rozwiązanie problemu rozumiemy podanie które przedmioty (indeksy w tablicy) należy spakować do plecaka oraz jaka jest sumaryczna wartość i masa plecaka. Punktacja wygląda następująco:\n",
        "\n",
        "\n",
        "*   Rozwiązanie problemu metodą brute force. *Podpowiedź: do wygenerowania wszystkich permutacji można użyć funkcji product z biblioteki itertools* - **1.5 pkt**\n",
        "*   Rozwiązanie problemu według heurystyki - do plecaka pakujemy przedmioty według stosunku wartości do wagi - **1 pkt**\n",
        "*   Dla metody brute force proszę wygenerować wykres zależności czasu wykonywania metody od liczby elementów w tablicach *weights* i *profits* (do obu tablic należy stopniowo dopisywać po jednym elemencie, np. 10-krotnie, wartości elementów nie mają znaczenia). Proszę również odpowiedzieć na pytania (w osobnej komórce tekstowej) - czy obie metody mają takie same rozwiązania? Jakie są Pani / Pana wnioski? - **0.5 pkt**\n",
        "\n",
        "\n"
      ],
      "metadata": {
        "id": "88lxDms-saqt"
      }
    },
    {
      "cell_type": "code",
      "source": [
        "import numpy as np\n",
        "!nvidia-smi"
      ],
      "outputs": [
        {
          "output_type": "stream",
          "name": "stdout",
          "text": "Tue Oct 11 17:02:09 2022       \n+-----------------------------------------------------------------------------+\n| NVIDIA-SMI 460.32.03    Driver Version: 460.32.03    CUDA Version: 11.2     |\n|-------------------------------+----------------------+----------------------+\n| GPU  Name        Persistence-M| Bus-Id        Disp.A | Volatile Uncorr. ECC |\n| Fan  Temp  Perf  Pwr:Usage/Cap|         Memory-Usage | GPU-Util  Compute M. |\n|                               |                      |               MIG M. |\n|===============================+======================+======================|\n|   0  Tesla T4            Off  | 00000000:00:04.0 Off |                    0 |\n| N/A   43C    P8     9W /  70W |      0MiB / 15109MiB |      0%      Default |\n|                               |                      |                  N/A |\n+-------------------------------+----------------------+----------------------+\n                                                                               \n+-----------------------------------------------------------------------------+\n| Processes:                                                                  |\n|  GPU   GI   CI        PID   Type   Process name                  GPU Memory |\n|        ID   ID                                                   Usage      |\n|=============================================================================|\n|  No running processes found                                                 |\n+-----------------------------------------------------------------------------+\n"
        }
      ],
      "execution_count": null,
      "metadata": {
        "id": "1X0PiYKZ2w63",
        "colab": {
          "base_uri": "https://localhost:8080/"
        },
        "outputId": "21bf4878-b9bb-4274-91c7-ee50d91355cc"
      }
    },
    {
      "cell_type": "code",
      "source": [
        "weights = np.array([8, 3, 5, 2])\n",
        "capacity = 9\n",
        "profits = np.array([16, 8, 9, 6])"
      ],
      "outputs": [],
      "execution_count": null,
      "metadata": {
        "id": "_IOCNGpCuy8s"
      }
    },
    {
      "cell_type": "code",
      "source": [
        "class KnapSack:\n",
        "  def __init__(self, profits, weights, capacity):\n",
        "    self.profits = profits\n",
        "    self.weights = weights\n",
        "    self.capacity = capacity\n",
        "\n",
        "  def solve_knapsack_brute_force(self):\n",
        "    pass\n",
        "\n",
        "  def solve_knapsack_pw_ratio(self):\n",
        "    pass"
      ],
      "outputs": [],
      "execution_count": null,
      "metadata": {
        "id": "s5J82x9WuSOh"
      }
    }
  ],
  "metadata": {
    "colab": {
      "provenance": []
    },
    "kernelspec": {
      "name": "python3",
      "display_name": "Python 3"
    },
    "language_info": {
      "name": "python"
    },
    "accelerator": "GPU",
    "nteract": {
      "version": "nteract-front-end@1.0.0"
    }
  },
  "nbformat": 4,
  "nbformat_minor": 0
}