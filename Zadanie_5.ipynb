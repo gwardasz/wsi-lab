{
  "cells": [
    {
      "cell_type": "markdown",
      "source": [
        "# Zadanie 5\n",
        "\n",
        "\n",
        "Celem ćwiczenia jest implementacja perceptronu wielowarstwowego oraz wybranego algorytmu optymalizacji gradientowej z algorytmem propagacji wstecznej.\n",
        "\n",
        "Następnie należy wytrenować perceptron wielowarstwowy do klasyfikacji zbioru danych [MNIST](http://yann.lecun.com/exdb/mnist/). Zbiór MNIST dostępny jest w pakiecie `scikit-learn`.\n",
        "\n",
        "Punktacja:\n",
        "1. Implementacja propagacji do przodu (`forward`) [1 pkt]\n",
        "2. Implementacja wstecznej propagacji (zademonstrowana na bramce XOR) (`backward`) [2 pkt]\n",
        "3. Przeprowadzenie eksperymentów na zbiorze MNIST, w tym:\n",
        "    1. Porównanie co najmniej dwóch architektur sieci [1 pkt]\n",
        "    2. Przetestowanie każdej architektury na conajmniej 3 ziarnach [1 pkt]\n",
        "    3. Wnioski 1.[5 pkt]\n",
        "4. Jakość kodu 0.[5 pkt]\n",
        "\n",
        "Polecane źródła - teoria + intuicja:\n",
        "1. [Karpathy, CS231n Winter 2016: Lecture 4: Backpropagation, Neural Networks 1](https://www.youtube.com/watch?v=i94OvYb6noo&ab_channel=AndrejKarpathy)\n",
        "2. [3 Blude one Brown, Backpropagation calculus | Chapter 4, Deep learning\n",
        "](https://www.youtube.com/watch?v=tIeHLnjs5U8&t=4s&ab_channel=3Blue1Brown)\n"
      ],
      "metadata": {
        "collapsed": false,
        "id": "4jvHUkVIw_Vy"
      }
    },
    {
      "cell_type": "code",
      "source": [
        "from abc import abstractmethod, ABC\n",
        "from typing import List\n",
        "import numpy as np\n",
        "\n",
        "import matplotlib.pyplot as plt\n",
        "from sklearn.datasets import fetch_openml"
      ],
      "outputs": [],
      "execution_count": 3,
      "metadata": {
        "id": "b8i97JOPw_V6"
      }
    },
    {
      "cell_type": "code",
      "source": [
        "# from sklearn.metrics import accuracy_score,classification_report\n",
        "# from sklearn.neighbors import KNeighborsClassifier\n",
        "# from sklearn import svm\n",
        "\n",
        "mnist = fetch_openml('mnist_784')"
      ],
      "metadata": {
        "colab": {
          "base_uri": "https://localhost:8080/"
        },
        "id": "555dCot6dBFi",
        "outputId": "bd15bbc4-b15e-4a5c-dbd2-efe2a62e4145"
      },
      "execution_count": 4,
      "outputs": [
        {
          "output_type": "stream",
          "name": "stderr",
          "text": [
            "/usr/local/lib/python3.10/dist-packages/sklearn/datasets/_openml.py:968: FutureWarning: The default value of `parser` will change from `'liac-arff'` to `'auto'` in 1.4. You can set `parser='auto'` to silence this warning. Therefore, an `ImportError` will be raised from 1.4 if the dataset is dense and pandas is not installed. Note that the pandas parser may return different data types. See the Notes Section in fetch_openml's API doc for details.\n",
            "  warn(\n"
          ]
        }
      ]
    },
    {
      "cell_type": "code",
      "source": [
        "print(mnist.DESCR)\n",
        "mnist.target.shape\n",
        "\n",
        "'''\n",
        "image= mnist.data.to_numpy()\n",
        "plt.subplot(431)\n",
        "plt.imshow((image[0].reshape(28,28)), cmap=plt.cm.gray_r, interpolation='nearest')\n",
        "plt.subplot(432)\n",
        "plt.imshow(image[1].reshape(28,28), cmap=plt.cm.gray_r, interpolation= 'nearest')\n",
        "plt.subplot(433)\n",
        "plt.imshow(image[3].reshape(28,28), cmap=plt.cm.gray_r, interpolation= 'nearest')\n",
        "plt.subplot(434)\n",
        "plt.imshow(image[4].reshape(28,28), cmap=plt.cm.gray_r, interpolation= 'nearest')\n",
        "plt.subplot(435)\n",
        "plt.imshow(image[5].reshape(28,28), cmap=plt.cm.gray_r, interpolation= 'nearest')\n",
        "plt.subplot(436)\n",
        "plt.imshow(image[6].reshape(28,28), cmap=plt.cm.gray_r, interpolation= 'nearest')\n",
        "'''\n",
        "\n",
        "index_number= np.random.permutation(70000)\n",
        "x1,y1=mnist.data.loc[index_number],mnist.target.loc[index_number]\n",
        "x1.reset_index(drop=True,inplace=True)\n",
        "y1.reset_index(drop=True,inplace=True)\n",
        "x_train , x_test = x1[:55000], x1[55000:]\n",
        "y_train , y_test = y1[:55000], y1[55000:]\n",
        "\n"
      ],
      "metadata": {
        "colab": {
          "base_uri": "https://localhost:8080/",
          "height": 498
        },
        "id": "sNY6nM7Cd0YV",
        "outputId": "d8c2b632-ebc3-486d-c3ae-2e94ab42bd44"
      },
      "execution_count": 58,
      "outputs": [
        {
          "output_type": "stream",
          "name": "stdout",
          "text": [
            "**Author**: Yann LeCun, Corinna Cortes, Christopher J.C. Burges  \n",
            "**Source**: [MNIST Website](http://yann.lecun.com/exdb/mnist/) - Date unknown  \n",
            "**Please cite**:  \n",
            "\n",
            "The MNIST database of handwritten digits with 784 features, raw data available at: http://yann.lecun.com/exdb/mnist/. It can be split in a training set of the first 60,000 examples, and a test set of 10,000 examples  \n",
            "\n",
            "It is a subset of a larger set available from NIST. The digits have been size-normalized and centered in a fixed-size image. It is a good database for people who want to try learning techniques and pattern recognition methods on real-world data while spending minimal efforts on preprocessing and formatting. The original black and white (bilevel) images from NIST were size normalized to fit in a 20x20 pixel box while preserving their aspect ratio. The resulting images contain grey levels as a result of the anti-aliasing technique used by the normalization algorithm. the images were centered in a 28x28 image by computing the center of mass of the pixels, and translating the image so as to position this point at the center of the 28x28 field.  \n",
            "\n",
            "With some classification methods (particularly template-based methods, such as SVM and K-nearest neighbors), the error rate improves when the digits are centered by bounding box rather than center of mass. If you do this kind of pre-processing, you should report it in your publications. The MNIST database was constructed from NIST's NIST originally designated SD-3 as their training set and SD-1 as their test set. However, SD-3 is much cleaner and easier to recognize than SD-1. The reason for this can be found on the fact that SD-3 was collected among Census Bureau employees, while SD-1 was collected among high-school students. Drawing sensible conclusions from learning experiments requires that the result be independent of the choice of training set and test among the complete set of samples. Therefore it was necessary to build a new database by mixing NIST's datasets.  \n",
            "\n",
            "The MNIST training set is composed of 30,000 patterns from SD-3 and 30,000 patterns from SD-1. Our test set was composed of 5,000 patterns from SD-3 and 5,000 patterns from SD-1. The 60,000 pattern training set contained examples from approximately 250 writers. We made sure that the sets of writers of the training set and test set were disjoint. SD-1 contains 58,527 digit images written by 500 different writers. In contrast to SD-3, where blocks of data from each writer appeared in sequence, the data in SD-1 is scrambled. Writer identities for SD-1 is available and we used this information to unscramble the writers. We then split SD-1 in two: characters written by the first 250 writers went into our new training set. The remaining 250 writers were placed in our test set. Thus we had two sets with nearly 30,000 examples each. The new training set was completed with enough examples from SD-3, starting at pattern # 0, to make a full set of 60,000 training patterns. Similarly, the new test set was completed with SD-3 examples starting at pattern # 35,000 to make a full set with 60,000 test patterns. Only a subset of 10,000 test images (5,000 from SD-1 and 5,000 from SD-3) is available on this site. The full 60,000 sample training set is available.\n",
            "\n",
            "Downloaded from openml.org.\n"
          ]
        },
        {
          "output_type": "display_data",
          "data": {
            "text/plain": [
              "<Figure size 640x480 with 6 Axes>"
            ],
            "image/png": "[encoded data removed]"
          },
          "metadata": {}
        }
      ]
    },
    {
      "cell_type": "code",
      "source": [
        "mnist.data"
      ],
      "metadata": {
        "id": "m_tyzY6SeX44"
      },
      "execution_count": null,
      "outputs": []
    },
    {
      "cell_type": "code",
      "source": [
        "mnist.target.shape"
      ],
      "metadata": {
        "colab": {
          "base_uri": "https://localhost:8080/"
        },
        "id": "uNWXl-VQeZes",
        "outputId": "8695947b-c715-4941-eb81-787f69fadd77"
      },
      "execution_count": 8,
      "outputs": [
        {
          "output_type": "execute_result",
          "data": {
            "text/plain": [
              "(70000,)"
            ]
          },
          "metadata": {},
          "execution_count": 8
        }
      ]
    },
    {
      "cell_type": "code",
      "source": [
        "x_train_array = x_train.to_numpy()\n",
        "x_train_array = x_train_array/255\n",
        "# The original pixel values range from 0 to 255. So, we divided them by 255 to get them into the range of 0.0 to 1.0.\n",
        "# https://www.google.com/search?client=opera&q=how+mnist+dataset+is+normalized&sourceid=opera&ie=UTF-8&oe=UTF-8\n",
        "type(x_train_array[0])"
      ],
      "metadata": {
        "colab": {
          "base_uri": "https://localhost:8080/"
        },
        "id": "_ikb6j88-Oeu",
        "outputId": "14ec33b9-98c5-44ec-cdbb-e27f9f3bd88a"
      },
      "execution_count": 9,
      "outputs": [
        {
          "output_type": "execute_result",
          "data": {
            "text/plain": [
              "numpy.ndarray"
            ]
          },
          "metadata": {},
          "execution_count": 9
        }
      ]
    },
    {
      "cell_type": "code",
      "source": [
        "y_train\n",
        "y_train_array = y_train.to_numpy(dtype=int)\n",
        "def normalize_to_vector(a:int):\n",
        "    arr = np.zeros(10)\n",
        "    arr[a] +=1\n",
        "    return arr\n",
        "\n",
        "y_train_array = np.array([normalize_to_vector(number) for number in y_train_array])\n",
        "print(y_train_array)"
      ],
      "metadata": {
        "id": "_u_G_sQnPH6o"
      },
      "execution_count": null,
      "outputs": []
    },
    {
      "cell_type": "code",
      "source": [
        "class Layer(ABC):\n",
        "    \"\"\"Basic building block of the Neural Network\"\"\"\n",
        "\n",
        "    def __init__(self) -> None:\n",
        "        self._learning_rate = 0.01\n",
        "\n",
        "    @abstractmethod\n",
        "    def forward(self, x:np.ndarray)->np.ndarray:\n",
        "        \"\"\"Forward propagation of x through layer\"\"\"\n",
        "        pass\n",
        "\n",
        "    @abstractmethod\n",
        "    def backward(self, output_error_derivative) ->np.ndarray:\n",
        "        \"\"\"Backward propagation of output_error_derivative through layer\"\"\"\n",
        "        pass\n",
        "\n",
        "    @property\n",
        "    def learning_rate(self):\n",
        "        return self._learning_rate\n",
        "\n",
        "    @learning_rate.setter\n",
        "    def learning_rate(self, learning_rate):\n",
        "        assert learning_rate < 1, f\"Given learning_rate={learning_rate} is larger than 1\"\n",
        "        assert learning_rate > 0, f\"Given learning_rate={learning_rate} is smaller than 0\"\n",
        "        self._learning_rate = learning_rate\n",
        "\n",
        "\n",
        "class FullyConnected(Layer):\n",
        "    def __init__(self, input_size:int, output_size:int) -> None:\n",
        "        super().__init__()\n",
        "        self.input_size = input_size\n",
        "        self.output_size = output_size\n",
        "        self.weights = np.random.rand(self.input_size, self.output_size) - 0.5  # [[w1,w1,w1,w1,...],[w2,w2...]]\n",
        "        self.biases = np.random.rand(1, self.output_size)\n",
        "\n",
        "\n",
        "    def forward(self, x_input:np.ndarray)->np.ndarray:\n",
        "        print(\"FullyConnected(Layer) - forward -> input: \", x_input.shape)\n",
        "        self.input = x_input.reshape(1,self.input_size)\n",
        "        print(self.input)\n",
        "        print(\"FullyConnected(Layer) - forward -> input: \", self.input.shape)\n",
        "        self.output = np.array([np.dot(self.input, neuron_weights) + self.biases[0][index] for index, neuron_weights in enumerate(self.weights.T)])\n",
        "        print(\"FullyConnected(Layer) - forward -> output: \", self.output.shape)\n",
        "        return self.output\n",
        "\n",
        "    def backward(self, output_error_derivative)->np.ndarray:\n",
        "\n",
        "        # later try to delete...\n",
        "        # in the future it should be that shape and it could be irrelevant\n",
        "        # {\n",
        "        output_error_derivative = output_error_derivative.reshape(1, self.output_size)\n",
        "        # }\n",
        "\n",
        "        print(\"FullyConnected(Layer) - backward -> output_derivative: \", output_error_derivative.shape)\n",
        "\n",
        "        # output_error_derivative = dE/dz\n",
        "        # input_error_derivative: dE/dx = dE/dz * dz/dx\n",
        "        input_error_derivative = np.dot(output_error_derivative, self.weights.T)\n",
        "        # weight_error_derivative: dE/dw = dE/dz * dz/dw\n",
        "        weight_error_derivative =  np.dot(self.input.T, output_error_derivative)\n",
        "        # bias_error_derivative: dE/db = dE/db = dE/dz * dz/db (=1) = dE/dz\n",
        "        bias_error_derivative = output_error_derivative\n",
        "\n",
        "        # gradient descent\n",
        "        self.weights -= weight_error_derivative * self.learning_rate\n",
        "        self.biases -= bias_error_derivative * self.learning_rate\n",
        "\n",
        "        print(\"FullyConnected(Layer) - backward -> input_derivative: \", input_error_derivative.shape)\n",
        "        return input_error_derivative\n",
        "\n",
        "class Tanh(Layer):\n",
        "    def __init__(self) -> None:\n",
        "        super().__init__()\n",
        "\n",
        "    def forward(self, x:np.ndarray)->np.ndarray:\n",
        "        return np.tanh(x)\n",
        "\n",
        "    def backward(self, output_error_derivative)->np.ndarray:\n",
        "        pass # return 1 - np.tanh(x)**2 -> tanh_derivative(x)\n",
        "\n",
        "class Loss:\n",
        "    def __init__(self, loss_function:callable, loss_function_derivative:callable)->None:\n",
        "        self.loss_function = loss_function\n",
        "        self.loss_function_derivative = loss_function_derivative\n",
        "\n",
        "    def loss(self, x:np.ndarray)->np.ndarray:\n",
        "        \"\"\"Loss function for a particular x\"\"\"\n",
        "\n",
        "        pass\n",
        "\n",
        "    def loss_derivative(self, x:np.ndarray, y:np.ndarray)->np.ndarray:\n",
        "        \"\"\"Loss function derivative for a particular x and y\"\"\"\n",
        "        pass\n",
        "\n",
        "class Network:\n",
        "    def __init__(self, layers:List[Layer], learning_rate:float)->None:\n",
        "        self.layers = layers\n",
        "        self.learning_rate = learning_rate\n",
        "\n",
        "    def compile(self, loss:Loss)->None:\n",
        "        \"\"\"Define the loss function and loss function derivative\"\"\"\n",
        "        pass\n",
        "\n",
        "    def __call__(self, x:np.ndarray) -> np.ndarray:\n",
        "        \"\"\"Forward propagation of x through all layers\"\"\"\n",
        "        output = x\n",
        "        for layer in self.layers:\n",
        "            print(len(output))\n",
        "            output = layer.forward(output)\n",
        "        return output\n",
        "\n",
        "    def fit(self,\n",
        "            x_train:np.ndarray,\n",
        "            y_train:np.ndarray,\n",
        "            epochs:int,\n",
        "            learning_rate:float,\n",
        "            verbose:int=0)->None:\n",
        "        \"\"\"Fit the network to the training data\"\"\"\n",
        "\n",
        "        # loss_function =\n",
        "        self.compile(Loss())\n",
        "\n",
        "\n",
        "\n",
        "        pass"
      ],
      "outputs": [],
      "execution_count": 272,
      "metadata": {
        "id": "HcdRSkIqw_V8"
      }
    },
    {
      "cell_type": "code",
      "source": [
        "#n = Network([FullyConnected(28*28, 10), Tanh()], 0.01)\n",
        "#n.fit(x_train_array, y_train_array)\n",
        "#n.__call__(x_train_array[0])\n",
        "\n",
        "\n",
        "fc = FullyConnected(28**2, 10)\n",
        "fc.forward(x_train_array[0])\n",
        "fc.backward(y_train_array[0])\n",
        "_ = \"\"\n",
        "\n",
        "\n"
      ],
      "metadata": {
        "colab": {
          "base_uri": "https://localhost:8080/"
        },
        "id": "cHWB-Dz-yDbr",
        "outputId": "336b66ad-db70-45cf-be3d-41be57cf4a4a"
      },
      "execution_count": 273,
      "outputs": [
        {
          "output_type": "stream",
          "name": "stdout",
          "text": [
            "FullyConnected(Layer) - forward -> input:  (784,)\n",
            "[[0.         0.         0.         0.         0.         0.\n",
            "  0.         0.         0.         0.         0.         0.\n",
            "  0.         0.         0.         0.         0.         0.\n",
            "  0.         0.         0.         0.         0.         0.\n",
            "  0.         0.         0.         0.         0.         0.\n",
            "  0.         0.         0.         0.         0.         0.\n",
            "  0.         0.         0.         0.         0.         0.\n",
            "  0.         0.         0.         0.         0.         0.\n",
            "  0.         0.         0.         0.         0.         0.\n",
            "  0.         0.         0.         0.         0.         0.\n",
            "  0.         0.         0.         0.         0.         0.\n",
            "  0.         0.         0.         0.         0.         0.\n",
            "  0.         0.         0.         0.         0.         0.\n",
            "  0.         0.         0.         0.         0.         0.\n",
            "  0.         0.         0.         0.         0.         0.\n",
            "  0.         0.         0.         0.         0.         0.\n",
            "  0.         0.         0.         0.         0.         0.\n",
            "  0.         0.         0.         0.         0.         0.\n",
            "  0.         0.         0.         0.         0.         0.\n",
            "  0.         0.         0.         0.         0.         0.\n",
            "  0.         0.         0.         0.         0.         0.\n",
            "  0.         0.         0.         0.         0.         0.\n",
            "  0.         0.         0.         0.         0.         0.\n",
            "  0.         0.         0.         0.         0.         0.\n",
            "  0.         0.         0.         0.         0.         0.\n",
            "  0.         0.         0.         0.         0.         0.\n",
            "  0.         0.         0.         0.         0.         0.\n",
            "  0.         0.         0.         0.         0.         0.\n",
            "  0.         0.         0.         0.         0.         0.\n",
            "  0.         0.         0.         0.         0.         0.\n",
            "  0.         0.         0.         0.         0.         0.\n",
            "  0.         0.04705882 0.7372549  0.57647059 0.         0.\n",
            "  0.         0.         0.         0.         0.         0.\n",
            "  0.         0.         0.         0.         0.         0.62745098\n",
            "  0.09019608 0.         0.         0.         0.         0.\n",
            "  0.         0.         0.         0.         0.         0.65098039\n",
            "  0.98039216 0.28627451 0.         0.         0.         0.\n",
            "  0.         0.         0.         0.         0.         0.\n",
            "  0.         0.         0.3254902  0.98823529 0.34509804 0.\n",
            "  0.         0.         0.         0.         0.         0.\n",
            "  0.         0.         0.08627451 0.8627451  0.94901961 0.\n",
            "  0.         0.         0.         0.         0.         0.\n",
            "  0.         0.         0.         0.         0.         0.\n",
            "  0.80784314 0.98431373 0.31372549 0.         0.         0.\n",
            "  0.         0.         0.         0.         0.         0.\n",
            "  0.44705882 0.99215686 0.56862745 0.         0.         0.\n",
            "  0.         0.         0.         0.         0.         0.\n",
            "  0.         0.         0.         0.05882353 0.8627451  0.90588235\n",
            "  0.         0.         0.         0.         0.         0.\n",
            "  0.         0.         0.         0.15294118 0.8745098  0.99215686\n",
            "  0.98039216 0.5372549  0.         0.         0.         0.\n",
            "  0.         0.         0.         0.         0.         0.\n",
            "  0.         0.2627451  0.99215686 0.56470588 0.         0.\n",
            "  0.         0.         0.         0.         0.         0.24313725\n",
            "  0.51764706 0.89411765 0.99215686 0.99215686 0.65490196 0.17647059\n",
            "  0.         0.         0.         0.         0.         0.\n",
            "  0.         0.         0.         0.         0.         0.2627451\n",
            "  0.99215686 0.4745098  0.         0.         0.         0.\n",
            "  0.03529412 0.23529412 0.7254902  0.96862745 0.99215686 0.99215686\n",
            "  0.99215686 0.27843137 0.00784314 0.         0.         0.\n",
            "  0.         0.         0.         0.         0.         0.\n",
            "  0.         0.         0.         0.2627451  0.99215686 0.54901961\n",
            "  0.         0.         0.16078431 0.44313725 0.89411765 0.99215686\n",
            "  0.97647059 0.51764706 0.45882353 0.97647059 0.99215686 0.21568627\n",
            "  0.         0.         0.         0.         0.         0.\n",
            "  0.         0.         0.         0.         0.         0.\n",
            "  0.         0.18431373 0.94117647 0.97254902 0.7372549  0.7372549\n",
            "  0.97254902 0.99215686 0.99215686 0.72941176 0.22745098 0.\n",
            "  0.39215686 0.99215686 0.9254902  0.14901961 0.         0.\n",
            "  0.         0.         0.         0.         0.         0.\n",
            "  0.         0.         0.         0.         0.         0.\n",
            "  0.82352941 0.99215686 0.99215686 0.99215686 0.59607843 0.29803922\n",
            "  0.12941176 0.01960784 0.         0.         0.39215686 0.99215686\n",
            "  0.77647059 0.         0.         0.         0.         0.\n",
            "  0.         0.         0.         0.         0.         0.\n",
            "  0.         0.         0.         0.         0.         0.03921569\n",
            "  0.34117647 0.         0.         0.         0.         0.\n",
            "  0.         0.         0.39607843 1.         0.53333333 0.\n",
            "  0.         0.         0.         0.         0.         0.\n",
            "  0.         0.         0.         0.         0.         0.\n",
            "  0.         0.         0.         0.         0.         0.\n",
            "  0.         0.         0.         0.         0.         0.\n",
            "  0.69411765 0.97254902 0.25490196 0.         0.         0.\n",
            "  0.         0.         0.         0.         0.         0.\n",
            "  0.         0.         0.         0.         0.         0.\n",
            "  0.         0.         0.         0.         0.         0.\n",
            "  0.         0.         0.         0.10588235 0.89019608 0.90588235\n",
            "  0.         0.         0.         0.         0.         0.\n",
            "  0.         0.         0.         0.         0.         0.\n",
            "  0.         0.         0.         0.         0.         0.\n",
            "  0.         0.         0.         0.         0.         0.\n",
            "  0.         0.2627451  0.99215686 0.90588235 0.         0.\n",
            "  0.         0.         0.         0.         0.         0.\n",
            "  0.         0.         0.         0.         0.         0.\n",
            "  0.         0.         0.         0.         0.         0.\n",
            "  0.         0.         0.         0.         0.         0.54509804\n",
            "  0.99215686 0.90588235 0.         0.         0.         0.\n",
            "  0.         0.         0.         0.         0.         0.\n",
            "  0.         0.         0.         0.         0.         0.\n",
            "  0.         0.         0.         0.         0.         0.\n",
            "  0.         0.         0.         0.69411765 0.99215686 0.90588235\n",
            "  0.         0.         0.         0.         0.         0.\n",
            "  0.         0.         0.         0.         0.         0.\n",
            "  0.         0.         0.         0.         0.         0.\n",
            "  0.         0.         0.         0.         0.         0.\n",
            "  0.         0.6745098  0.99215686 0.90588235 0.         0.\n",
            "  0.         0.         0.         0.         0.         0.\n",
            "  0.         0.         0.         0.         0.         0.\n",
            "  0.         0.         0.         0.         0.         0.\n",
            "  0.         0.         0.         0.         0.         0.2627451\n",
            "  0.99215686 0.90588235 0.         0.         0.         0.\n",
            "  0.         0.         0.         0.         0.         0.\n",
            "  0.         0.         0.         0.         0.         0.\n",
            "  0.         0.         0.         0.         0.         0.\n",
            "  0.         0.         0.         0.07058824 0.86666667 0.97254902\n",
            "  0.7372549  0.16078431 0.         0.         0.         0.\n",
            "  0.         0.         0.         0.         0.         0.\n",
            "  0.         0.         0.         0.         0.         0.\n",
            "  0.         0.         0.         0.         0.         0.\n",
            "  0.         0.         0.63529412 0.95686275 0.46666667 0.02745098\n",
            "  0.         0.         0.         0.         0.         0.\n",
            "  0.         0.         0.         0.         0.         0.\n",
            "  0.         0.         0.         0.         0.         0.\n",
            "  0.         0.         0.         0.         0.         0.\n",
            "  0.         0.         0.         0.         0.         0.\n",
            "  0.         0.         0.         0.         0.         0.\n",
            "  0.         0.         0.         0.         0.         0.\n",
            "  0.         0.         0.         0.         0.         0.\n",
            "  0.         0.         0.         0.         0.         0.\n",
            "  0.         0.         0.         0.         0.         0.\n",
            "  0.         0.         0.         0.        ]]\n",
            "FullyConnected(Layer) - forward -> input:  (1, 784)\n",
            "FullyConnected(Layer) - forward -> output:  (10, 1)\n",
            "FullyConnected(Layer) - backward -> output_derivative:  (1, 10)\n",
            "FullyConnected(Layer) - backward -> input_derivative:  (1, 784)\n"
          ]
        }
      ]
    },
    {
      "cell_type": "code",
      "source": [],
      "metadata": {
        "colab": {
          "base_uri": "https://localhost:8080/"
        },
        "id": "OsneTm8xLvv_",
        "outputId": "57264868-bd1f-46c5-99c8-859685813a84"
      },
      "execution_count": 231,
      "outputs": [
        {
          "output_type": "stream",
          "name": "stdout",
          "text": [
            "<class 'numpy.ndarray'>\n"
          ]
        }
      ]
    },
    {
      "cell_type": "markdown",
      "source": [
        "# Eksperymenty"
      ],
      "metadata": {
        "collapsed": false,
        "id": "0Gml97m0w_V9"
      }
    },
    {
      "cell_type": "markdown",
      "source": [
        "# Wnioski"
      ],
      "metadata": {
        "collapsed": false,
        "id": "ZXAiBXPlw_V-"
      }
    }
  ],
  "metadata": {
    "kernelspec": {
      "display_name": "Python 3",
      "language": "python",
      "name": "python3"
    },
    "language_info": {
      "codemirror_mode": {
        "name": "ipython",
        "version": 2
      },
      "file_extension": ".py",
      "mimetype": "text/x-python",
      "name": "python",
      "nbconvert_exporter": "python",
      "pygments_lexer": "ipython2",
      "version": "2.7.6"
    },
    "nteract": {
      "version": "nteract-front-end@1.0.0"
    },
    "colab": {
      "provenance": []
    }
  },
  "nbformat": 4,
  "nbformat_minor": 0
}