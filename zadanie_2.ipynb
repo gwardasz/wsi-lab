{
  "cells": [
    {
      "cell_type": "markdown",
      "source": [
        "#Zadanie 2 (7 pkt)\n",
        "Celem zadania jest rozwiązanie zadania optymalizacji przy pomocy algorytmu genetycznego. Należy znaleźć minimum zadanej funkcji:\n",
        "\\begin{equation}\n",
        "f(x) = 1.5-\\exp \\left\\{-x_1^2-x_2^2\\right\\}-0.5 \\exp \\left\\{-\\left(x_1-1\\right)^2-\\left(x_2+2\\right)^2\\right\\}\n",
        "\\end{equation}\n",
        "Należy wykorzystać mechanizmy krzyżowania punktowego, mutacji oraz selekcji turniejowej. Proszę wykorzystać przygotowany szkielet i zaimplementować niezbędne metody. Opracowane oprogramowanie powinno być uniwersalne - wymiar funkcji, której minimum szukamy może być dowolny (mechanizm *args). Punktacja wygląda następująco:\n",
        "\n",
        "*   Stworzenie obiektu klasy *Chromosome* z polem *array*, które jest wektorem aktywnych i nieaktywnych genów - **0.5 pkt**\n",
        "*   Implementacja metody *decode*, która dekoduje część chromosomu (określoną przez początek (*lower_bound*) i koniec (*upper_bound*)) do postaci liczby rzeczywistej. *aoi* to zakres wartości zdekodowanej liczby rzeczywistej. Przykład: liczba 135 w postaci binarnej zapisana przy użyciu 8 bitów to 1000 0111, jeśli nasze *aoi* to [0, 1], to 135 sprowadzone do tego zakresu to 0.529. Można skorzystać z funkcji pomocniczej *min_max_norm* - **1 pkt**\n",
        "*   Implementacja metody *mutation*, która przyjmuje jako argument prawdopodobieństo mutacji i zmienia wartość jedego, losowego genu na przeciwną - **0.5 pkt**\n",
        "*   Implementacja metody *crossover*, która wykonuje operację krzyżowania jednopunktowego - **1 pkt**\n",
        "*   Implementacja metody *eval_objective_func*, która dekoduje cały chromosom (otrzymuje się argumenty funkcji) oraz zwraca wartość funkcji celu dla tych argumentów - **1 pkt**\n",
        "*   Implementacja metody *tournament_selection*, która przeprowadza selekcję turniejową - **1 pkt**\n",
        "*   Implementacja metody *reproduce*, która generuje nowe pokolenie - z pewnym prawdopodobieństwem przeprowadza krzyżowanie jednopunktowe lub \"przerzuca\" rodziców do nowego pokolenia - **0.5 pkt**\n",
        "*   Implementacja metody *run*, która wykonuje cały alorytm genetyczny dla określonej liczby pokoleń. W każdym pokoleniu należy zapisać dane osobnika z najlepszym chromosomem zdekodowane wartości x i y oraz wartość funkcji strat dla tego osobnika - **0.5 pkt**\n",
        "*   Proszę, podobnie jak miało to miejsce w przypadku metody gradientowej z poprzednich zajęć, wygenerować wykres przy użyciu funkcji *plot_func* (w przypadku innego typu argumentu *trace*, funkcję można zmodyfikować. Wykres powinien przedstawiać funkcję, której minimum poszukujemy oraz punkty odpowiadające najlepszym osobnikom w danych generacjach, których kolor jest coraz jaśniejszy wraz ze zbliżaniem się do minimum. Proszę zapisać swoje wnioski, w szczególności w odniesieniu do metody gradientowej. - **1 pkt**\n"
      ],
      "metadata": {
        "id": "cBl0cj0jPID2"
      }
    },
    {
      "cell_type": "code",
      "source": [
        "import numpy as np\n",
        "import matplotlib.pyplot as plt"
      ],
      "outputs": [],
      "execution_count": null,
      "metadata": {
        "id": "t7lu9KtdNqVO"
      }
    },
    {
      "cell_type": "code",
      "source": [
        "def min_max_norm(val, min_val, max_val, new_min, new_max):\n",
        "  return (val - min_val) * (new_max - new_min) / (max_val - min_val) + new_min"
      ],
      "outputs": [],
      "execution_count": null,
      "metadata": {
        "id": "At5DP7zTNsO8"
      }
    },
    {
      "cell_type": "code",
      "source": [
        "class Chromosome:\n",
        "  def __init__(self, length, array=None): #if array is None it should be initialized with random binary vector\n",
        "    pass\n",
        "\n",
        "  def decode(self, lower_bound, upper_bound, aoi):\n",
        "    pass\n",
        "\n",
        "  def mutation(self, probability):\n",
        "    pass\n",
        "\n",
        "  def crossover(self, other):\n",
        "    pass"
      ],
      "outputs": [],
      "execution_count": null,
      "metadata": {
        "id": "AHfWVTRuNxms"
      }
    },
    {
      "cell_type": "code",
      "source": [
        "class GeneticAlgorithm:\n",
        "  def __init__(self, chromosome_length, obj_func_num_args, objective_function, aoi, population_size=1000,\n",
        "               tournament_size=2, mutation_probability=0.05, crossover_probability=0.8, num_steps=30):\n",
        "    assert chromosome_length % obj_func_num_args == 0, \"Number of bits for each argument should be equal\"\n",
        "    self.chromosome_lengths = chromosome_length\n",
        "    self.obj_func_num_args = obj_func_num_args\n",
        "    self.bits_per_arg = int(chromosome_length / obj_func_num_args)\n",
        "    self.objective_function = objective_function\n",
        "    self.aoi = aoi\n",
        "    self.tournament_size = tournament_size\n",
        "    self.mutation_probability = mutation_probability\n",
        "    self.crossover_probability = crossover_probability\n",
        "    self.num_steps = num_steps\n",
        "\n",
        "  def eval_objective_func(self, chromosome):\n",
        "    pass\n",
        "\n",
        "  def tournament_selection(self):\n",
        "    pass\n",
        "\n",
        "  def reproduce(self, parents):\n",
        "    pass\n",
        "\n",
        "  def plot_func(self, trace):\n",
        "    X = np.arange(-2, 3, 0.05)\n",
        "    Y = np.arange(-4, 2, 0.05)\n",
        "    X, Y = np.meshgrid(X, Y)\n",
        "    Z = 1.5 - np.exp(-X ** (2) - Y ** (2)) - 0.5 * np.exp(-(X - 1) ** (2) - (Y + 2) ** (2))\n",
        "    plt.figure()\n",
        "    plt.contour(X, Y, Z, 10)\n",
        "    cmaps = [[ii / len(trace), 0, 0] for ii in range(len(trace))]\n",
        "    plt.scatter([x[0] for x in trace], [x[1] for x in trace], c=cmaps)\n",
        "    plt.show()\n",
        "\n",
        "  def run(self):\n",
        "    pass"
      ],
      "outputs": [],
      "execution_count": null,
      "metadata": {
        "id": "bAMGkQczOnRS"
      }
    }
  ],
  "metadata": {
    "kernelspec": {
      "display_name": "Python 3",
      "language": "python",
      "name": "python3"
    },
    "language_info": {
      "codemirror_mode": {
        "name": "ipython",
        "version": 2
      },
      "file_extension": ".py",
      "mimetype": "text/x-python",
      "name": "python",
      "nbconvert_exporter": "python",
      "pygments_lexer": "ipython2",
      "version": "2.7.6"
    },
    "colab": {
      "provenance": []
    },
    "nteract": {
      "version": "nteract-front-end@1.0.0"
    }
  },
  "nbformat": 4,
  "nbformat_minor": 0
}